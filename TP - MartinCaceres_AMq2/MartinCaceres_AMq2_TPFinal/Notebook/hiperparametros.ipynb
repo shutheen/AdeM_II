{
 "cells": [
  {
   "cell_type": "code",
   "execution_count": 2,
   "metadata": {},
   "outputs": [],
   "source": [
    "# Importar las librerías necesarias\n",
    "import os\n",
    "import numpy as np\n",
    "import pandas as pd\n",
    "from sklearn.ensemble import RandomForestRegressor\n",
    "from sklearn.svm import SVR\n",
    "from sklearn.neural_network import MLPRegressor\n",
    "from sklearn.model_selection import cross_val_score\n",
    "import optuna\n",
    "from sklearn.impute import SimpleImputer\n",
    "import joblib\n",
    "\n"
   ]
  },
  {
   "cell_type": "code",
   "execution_count": 10,
   "metadata": {},
   "outputs": [
    {
     "name": "stdout",
     "output_type": "stream",
     "text": [
      "La ruta especificada existe.\n"
     ]
    }
   ],
   "source": [
    "# Definir la ruta al proyecto usando raw string literal\n",
    "project_folder = \"H:\\\\Users\\\\Martin\\\\Desktop\\\\Especialización  IA\\\\1 - Bimestres y Cursos\\\\3B\\\\3. Aprendizaje de Máquina II\\\\TP - MartinCaceres_AMq2\\\\MartinCaceres_AMq2_TPFinal\"\n",
    "\n",
    "# Verificar si la ruta existe\n",
    "if os.path.exists(project_folder):\n",
    "    print(\"La ruta especificada existe.\")\n",
    "else:\n",
    "    print(\"La ruta especificada no existe.\")\n",
    "\n",
    "# Cargar los datos procesados desde la Notebook del científico de datos\n",
    "train_data_path = \"train_final.csv\"\n",
    "test_data_path = \"test_final.csv\"\n",
    "\n",
    "df_train = pd.read_csv(train_data_path)\n",
    "df_test = pd.read_csv(test_data_path)\n",
    "\n",
    "# Separar características y etiquetas\n",
    "X_train_imputed = df_train.drop(\"Item_Outlet_Sales\", axis=1)\n",
    "y_train = df_train[\"Item_Outlet_Sales\"]\n",
    "X_test_imputed = df_test\n"
   ]
  },
  {
   "cell_type": "markdown",
   "metadata": {},
   "source": [
    "# Random Forest\n"
   ]
  },
  {
   "cell_type": "code",
   "execution_count": 11,
   "metadata": {},
   "outputs": [],
   "source": [
    "# Definir la función objetivo para la optimización de Random Forest\n",
    "def random_forest_objective(trial):\n",
    "    n_estimators = trial.suggest_int(\"n_estimators\", 100, 1000)\n",
    "    max_depth = trial.suggest_int(\"max_depth\", 5, 30)\n",
    "    min_samples_split = trial.suggest_float(\"min_samples_split\", 0.1, 1)\n",
    "    min_samples_leaf = trial.suggest_float(\"min_samples_leaf\", 0.1, 0.5)\n",
    "    \n",
    "    model = RandomForestRegressor(\n",
    "        n_estimators=n_estimators,\n",
    "        max_depth=max_depth,\n",
    "        min_samples_split=min_samples_split,\n",
    "        min_samples_leaf=min_samples_leaf,\n",
    "        random_state=42\n",
    "    )\n",
    "    \n",
    "    # Utilizar validación cruzada para calcular la métrica de evaluación\n",
    "    score = cross_val_score(model, X_train_imputed, y_train, cv=3)\n",
    "    \n",
    "    return score.mean()"
   ]
  },
  {
   "cell_type": "code",
   "execution_count": 12,
   "metadata": {},
   "outputs": [
    {
     "name": "stderr",
     "output_type": "stream",
     "text": [
      "[I 2023-08-27 17:52:06,843] A new study created in memory with name: no-name-a706a425-6be3-4179-8ca9-2e8284461aa4\n",
      "[I 2023-08-27 17:52:09,799] Trial 0 finished with value: 0.31017675053023924 and parameters: {'n_estimators': 326, 'max_depth': 28, 'min_samples_split': 0.11310586726659337, 'min_samples_leaf': 0.10678109903034488}. Best is trial 0 with value: 0.31017675053023924.\n",
      "[I 2023-08-27 17:52:12,891] Trial 1 finished with value: -0.00018101500312354504 and parameters: {'n_estimators': 957, 'max_depth': 5, 'min_samples_split': 0.6686863593341036, 'min_samples_leaf': 0.4383761748711812}. Best is trial 0 with value: 0.31017675053023924.\n",
      "[I 2023-08-27 17:52:13,600] Trial 2 finished with value: -0.00017740890045240634 and parameters: {'n_estimators': 215, 'max_depth': 17, 'min_samples_split': 0.9682915791935155, 'min_samples_leaf': 0.3481945708531672}. Best is trial 0 with value: 0.31017675053023924.\n",
      "[I 2023-08-27 17:52:16,643] Trial 3 finished with value: -0.00018145218490254558 and parameters: {'n_estimators': 984, 'max_depth': 14, 'min_samples_split': 0.30327753317262496, 'min_samples_leaf': 0.42137906580192097}. Best is trial 0 with value: 0.31017675053023924.\n",
      "[I 2023-08-27 17:52:18,112] Trial 4 finished with value: 0.23365229338200721 and parameters: {'n_estimators': 235, 'max_depth': 24, 'min_samples_split': 0.3829808001794267, 'min_samples_leaf': 0.16034764141617994}. Best is trial 0 with value: 0.31017675053023924.\n",
      "[I 2023-08-27 17:52:19,185] Trial 5 finished with value: -0.000180201668133817 and parameters: {'n_estimators': 338, 'max_depth': 11, 'min_samples_split': 0.9218109146846099, 'min_samples_leaf': 0.1668345551692368}. Best is trial 0 with value: 0.31017675053023924.\n",
      "[I 2023-08-27 17:52:20,575] Trial 6 finished with value: 0.23365139594289563 and parameters: {'n_estimators': 225, 'max_depth': 6, 'min_samples_split': 0.4371693109207373, 'min_samples_leaf': 0.16078048127410557}. Best is trial 0 with value: 0.31017675053023924.\n",
      "[I 2023-08-27 17:52:22,352] Trial 7 finished with value: -0.0001822800424873261 and parameters: {'n_estimators': 574, 'max_depth': 5, 'min_samples_split': 0.9853547420606965, 'min_samples_leaf': 0.20921318354958962}. Best is trial 0 with value: 0.31017675053023924.\n",
      "[I 2023-08-27 17:52:26,246] Trial 8 finished with value: 0.23364214617825282 and parameters: {'n_estimators': 649, 'max_depth': 10, 'min_samples_split': 0.44436084277998134, 'min_samples_leaf': 0.238341133504058}. Best is trial 0 with value: 0.31017675053023924.\n",
      "[I 2023-08-27 17:52:26,958] Trial 9 finished with value: -0.00017938517520077468 and parameters: {'n_estimators': 191, 'max_depth': 26, 'min_samples_split': 0.9816122278850362, 'min_samples_leaf': 0.21434693062846388}. Best is trial 0 with value: 0.31017675053023924.\n"
     ]
    },
    {
     "name": "stdout",
     "output_type": "stream",
     "text": [
      "Best trial (Random Forest): score 0.31017675053023924, params {'n_estimators': 326, 'max_depth': 28, 'min_samples_split': 0.11310586726659337, 'min_samples_leaf': 0.10678109903034488}\n"
     ]
    },
    {
     "data": {
      "text/plain": [
       "['H:\\\\Users\\\\Martin\\\\Desktop\\\\Especialización  IA\\\\1 - Bimestres y Cursos\\\\3B\\\\3. Aprendizaje de Máquina II\\\\TP - MartinCaceres_AMq2\\\\MartinCaceres_AMq2_TPFinal\\\\models\\\\random_forest_model.joblib']"
      ]
     },
     "execution_count": 12,
     "metadata": {},
     "output_type": "execute_result"
    }
   ],
   "source": [
    "# Crear el estudio de Optuna y ejecutar la optimización para Random Forest\n",
    "study_rf = optuna.create_study(direction='maximize')\n",
    "study_rf.optimize(random_forest_objective, n_trials=10)\n",
    "\n",
    "# Imprimir los resultados de la optimización para Random Forest\n",
    "print('Best trial (Random Forest): score {}, params {}'.format(study_rf.best_trial.value, study_rf.best_trial.params))\n",
    "\n",
    "# Obtener los mejores hiperparámetros para Random Forest\n",
    "best_params_rf = study_rf.best_params\n",
    "\n",
    "# Crear y entrenar el modelo final de Random Forest con los mejores hiperparámetros\n",
    "final_model_rf = RandomForestRegressor(**best_params_rf)\n",
    "final_model_rf.fit(X_train_imputed, y_train)\n",
    "\n",
    "# Guardar el modelo entrenado\n",
    "model_path_rf = os.path.join(project_folder, \"models\", \"random_forest_model.joblib\")\n",
    "joblib.dump(final_model_rf, model_path_rf)"
   ]
  },
  {
   "cell_type": "markdown",
   "metadata": {},
   "source": [
    "# SVM"
   ]
  },
  {
   "cell_type": "code",
   "execution_count": 13,
   "metadata": {},
   "outputs": [],
   "source": [
    "# Definir la función objetivo para la optimización de SVM\n",
    "def svm_objective(trial):\n",
    "    C = trial.suggest_float(\"C\", 0.1, 10)\n",
    "    epsilon = trial.suggest_float(\"epsilon\", 0.01, 0.2)\n",
    "    \n",
    "    model = SVR(\n",
    "        C=C,\n",
    "        epsilon=epsilon\n",
    "    )\n",
    "    \n",
    "    # Utilizar validación cruzada para calcular la métrica de evaluación\n",
    "    score = cross_val_score(model, X_train_imputed, y_train, cv=3, scoring='neg_mean_squared_error')\n",
    "    \n",
    "    return score.mean()"
   ]
  },
  {
   "cell_type": "code",
   "execution_count": 14,
   "metadata": {},
   "outputs": [
    {
     "name": "stderr",
     "output_type": "stream",
     "text": [
      "[I 2023-08-27 17:52:38,187] A new study created in memory with name: no-name-0f2cc23e-adcf-40cd-85ab-1d947fe033c4\n",
      "[I 2023-08-27 17:52:48,914] Trial 0 finished with value: -3058968.0222425167 and parameters: {'C': 3.7212351751517616, 'epsilon': 0.17429054596367338}. Best is trial 0 with value: -3058968.0222425167.\n",
      "[I 2023-08-27 17:52:59,238] Trial 1 finished with value: -3058688.5935104266 and parameters: {'C': 4.052471415620174, 'epsilon': 0.04422106244628556}. Best is trial 0 with value: -3058968.0222425167.\n",
      "[I 2023-08-27 17:53:09,592] Trial 2 finished with value: -3058984.300312621 and parameters: {'C': 8.00824329057538, 'epsilon': 0.12310005142119393}. Best is trial 2 with value: -3058984.300312621.\n",
      "[I 2023-08-27 17:53:19,937] Trial 3 finished with value: -3057685.9118294255 and parameters: {'C': 2.6247181730658187, 'epsilon': 0.11656567833585112}. Best is trial 2 with value: -3058984.300312621.\n",
      "[I 2023-08-27 17:53:30,407] Trial 4 finished with value: -3060475.191078247 and parameters: {'C': 0.7261748541811031, 'epsilon': 0.04312843330365305}. Best is trial 4 with value: -3060475.191078247.\n",
      "[I 2023-08-27 17:53:40,770] Trial 5 finished with value: -3059393.5253564673 and parameters: {'C': 5.301485332372149, 'epsilon': 0.1624341559525807}. Best is trial 4 with value: -3060475.191078247.\n",
      "[I 2023-08-27 17:53:51,140] Trial 6 finished with value: -3061497.6034882334 and parameters: {'C': 0.5430297908860753, 'epsilon': 0.1968806339154638}. Best is trial 6 with value: -3061497.6034882334.\n",
      "[I 2023-08-27 17:54:01,517] Trial 7 finished with value: -3058524.267389543 and parameters: {'C': 7.176822455976155, 'epsilon': 0.12398706610166764}. Best is trial 6 with value: -3061497.6034882334.\n",
      "[I 2023-08-27 17:54:11,810] Trial 8 finished with value: -3058762.0694499724 and parameters: {'C': 3.4387606305089067, 'epsilon': 0.021638235748965964}. Best is trial 6 with value: -3061497.6034882334.\n",
      "[I 2023-08-27 17:54:22,194] Trial 9 finished with value: -3058920.898930757 and parameters: {'C': 3.60739704306348, 'epsilon': 0.11211084024740735}. Best is trial 6 with value: -3061497.6034882334.\n"
     ]
    },
    {
     "name": "stdout",
     "output_type": "stream",
     "text": [
      "Best trial (SVM): score 3061497.6034882334, params {'C': 0.5430297908860753, 'epsilon': 0.1968806339154638}\n"
     ]
    },
    {
     "data": {
      "text/plain": [
       "['H:\\\\Users\\\\Martin\\\\Desktop\\\\Especialización  IA\\\\1 - Bimestres y Cursos\\\\3B\\\\3. Aprendizaje de Máquina II\\\\TP - MartinCaceres_AMq2\\\\MartinCaceres_AMq2_TPFinal\\\\models\\\\svm_model.joblib']"
      ]
     },
     "execution_count": 14,
     "metadata": {},
     "output_type": "execute_result"
    }
   ],
   "source": [
    "# Crear el estudio de Optuna y ejecutar la optimización para SVM\n",
    "study_svm = optuna.create_study(direction='minimize')\n",
    "study_svm.optimize(svm_objective, n_trials=10)\n",
    "\n",
    "# Imprimir los resultados de la optimización para SVM\n",
    "print('Best trial (SVM): score {}, params {}'.format(-study_svm.best_trial.value, study_svm.best_trial.params))\n",
    "\n",
    "# Obtener los mejores hiperparámetros para SVM\n",
    "best_params_svm = study_svm.best_params\n",
    "\n",
    "# Crear y entrenar el modelo final de SVM con los mejores hiperparámetros\n",
    "final_model_svm = SVR(**best_params_svm)\n",
    "final_model_svm.fit(X_train_imputed, y_train)\n",
    "\n",
    "# Guardar el modelo entrenado\n",
    "model_path_svm = os.path.join(project_folder, \"models\", \"svm_model.joblib\")\n",
    "joblib.dump(final_model_svm, model_path_svm)"
   ]
  },
  {
   "cell_type": "markdown",
   "metadata": {},
   "source": [
    "# Redes Neuronales"
   ]
  },
  {
   "cell_type": "code",
   "execution_count": 15,
   "metadata": {},
   "outputs": [],
   "source": [
    "# Definir la función objetivo para la optimización de Redes Neuronales\n",
    "def neural_network_objective(trial):\n",
    "    hidden_layer_sizes = tuple([trial.suggest_int(\"n_units_l{}\".format(i), 1, 100) for i in range(trial.suggest_int(\"n_layers\", 1, 5))])\n",
    "    activation = trial.suggest_categorical(\"activation\", [\"identity\", \"logistic\", \"tanh\", \"relu\"])\n",
    "    alpha = trial.suggest_float(\"alpha\", 1e-5, 1e-1, log=True)\n",
    "    \n",
    "    model = MLPRegressor(\n",
    "        hidden_layer_sizes=hidden_layer_sizes,\n",
    "        activation=activation,\n",
    "        alpha=alpha,\n",
    "        random_state=42\n",
    "    )\n",
    "    \n",
    "    # Utilizar validación cruzada para calcular la métrica de evaluación\n",
    "    score = cross_val_score(model, X_train_imputed, y_train, cv=3, scoring='neg_mean_squared_error')\n",
    "    \n",
    "    return score.mean()"
   ]
  },
  {
   "cell_type": "code",
   "execution_count": 16,
   "metadata": {},
   "outputs": [
    {
     "name": "stderr",
     "output_type": "stream",
     "text": [
      "[I 2023-08-27 17:54:25,542] A new study created in memory with name: no-name-b3c78fab-323b-4731-a34f-d12fa9b9c26d\n",
      "[I 2023-08-27 17:54:32,694] Trial 0 finished with value: -1492070.4699969615 and parameters: {'n_layers': 3, 'n_units_l0': 25, 'n_units_l1': 15, 'n_units_l2': 47, 'activation': 'identity', 'alpha': 0.000179310698956104}. Best is trial 0 with value: -1492070.4699969615.\n",
      "[I 2023-08-27 17:54:56,181] Trial 1 finished with value: -1504030.0913739158 and parameters: {'n_layers': 4, 'n_units_l0': 6, 'n_units_l1': 98, 'n_units_l2': 57, 'n_units_l3': 75, 'activation': 'identity', 'alpha': 0.0001456477114782891}. Best is trial 1 with value: -1504030.0913739158.\n",
      "[I 2023-08-27 17:55:15,937] Trial 2 finished with value: -1804260.7515367258 and parameters: {'n_layers': 5, 'n_units_l0': 51, 'n_units_l1': 100, 'n_units_l2': 93, 'n_units_l3': 63, 'n_units_l4': 2, 'activation': 'identity', 'alpha': 0.06334294779642975}. Best is trial 2 with value: -1804260.7515367258.\n",
      "C:\\Users\\Martin\\AppData\\Local\\Packages\\PythonSoftwareFoundation.Python.3.10_qbz5n2kfra8p0\\LocalCache\\local-packages\\Python310\\site-packages\\sklearn\\neural_network\\_multilayer_perceptron.py:702: ConvergenceWarning: Stochastic Optimizer: Maximum iterations (200) reached and the optimization hasn't converged yet.\n",
      "  warnings.warn(\n",
      "C:\\Users\\Martin\\AppData\\Local\\Packages\\PythonSoftwareFoundation.Python.3.10_qbz5n2kfra8p0\\LocalCache\\local-packages\\Python310\\site-packages\\sklearn\\neural_network\\_multilayer_perceptron.py:702: ConvergenceWarning: Stochastic Optimizer: Maximum iterations (200) reached and the optimization hasn't converged yet.\n",
      "  warnings.warn(\n",
      "C:\\Users\\Martin\\AppData\\Local\\Packages\\PythonSoftwareFoundation.Python.3.10_qbz5n2kfra8p0\\LocalCache\\local-packages\\Python310\\site-packages\\sklearn\\neural_network\\_multilayer_perceptron.py:702: ConvergenceWarning: Stochastic Optimizer: Maximum iterations (200) reached and the optimization hasn't converged yet.\n",
      "  warnings.warn(\n",
      "[I 2023-08-27 17:56:01,558] Trial 3 finished with value: -6711042.369235154 and parameters: {'n_layers': 5, 'n_units_l0': 50, 'n_units_l1': 81, 'n_units_l2': 47, 'n_units_l3': 20, 'n_units_l4': 38, 'activation': 'tanh', 'alpha': 0.00045469450599875793}. Best is trial 3 with value: -6711042.369235154.\n",
      "C:\\Users\\Martin\\AppData\\Local\\Packages\\PythonSoftwareFoundation.Python.3.10_qbz5n2kfra8p0\\LocalCache\\local-packages\\Python310\\site-packages\\sklearn\\neural_network\\_multilayer_perceptron.py:702: ConvergenceWarning: Stochastic Optimizer: Maximum iterations (200) reached and the optimization hasn't converged yet.\n",
      "  warnings.warn(\n",
      "C:\\Users\\Martin\\AppData\\Local\\Packages\\PythonSoftwareFoundation.Python.3.10_qbz5n2kfra8p0\\LocalCache\\local-packages\\Python310\\site-packages\\sklearn\\neural_network\\_multilayer_perceptron.py:702: ConvergenceWarning: Stochastic Optimizer: Maximum iterations (200) reached and the optimization hasn't converged yet.\n",
      "  warnings.warn(\n",
      "C:\\Users\\Martin\\AppData\\Local\\Packages\\PythonSoftwareFoundation.Python.3.10_qbz5n2kfra8p0\\LocalCache\\local-packages\\Python310\\site-packages\\sklearn\\neural_network\\_multilayer_perceptron.py:702: ConvergenceWarning: Stochastic Optimizer: Maximum iterations (200) reached and the optimization hasn't converged yet.\n",
      "  warnings.warn(\n",
      "[I 2023-08-27 17:56:54,758] Trial 4 finished with value: -7480768.20178056 and parameters: {'n_layers': 5, 'n_units_l0': 50, 'n_units_l1': 75, 'n_units_l2': 38, 'n_units_l3': 88, 'n_units_l4': 6, 'activation': 'tanh', 'alpha': 2.5729184204058494e-05}. Best is trial 4 with value: -7480768.20178056.\n",
      "C:\\Users\\Martin\\AppData\\Local\\Packages\\PythonSoftwareFoundation.Python.3.10_qbz5n2kfra8p0\\LocalCache\\local-packages\\Python310\\site-packages\\sklearn\\neural_network\\_multilayer_perceptron.py:702: ConvergenceWarning: Stochastic Optimizer: Maximum iterations (200) reached and the optimization hasn't converged yet.\n",
      "  warnings.warn(\n",
      "[I 2023-08-27 17:57:23,556] Trial 5 finished with value: -1403173.1395860128 and parameters: {'n_layers': 5, 'n_units_l0': 17, 'n_units_l1': 78, 'n_units_l2': 60, 'n_units_l3': 83, 'n_units_l4': 8, 'activation': 'relu', 'alpha': 0.0021811803551691398}. Best is trial 4 with value: -7480768.20178056.\n",
      "C:\\Users\\Martin\\AppData\\Local\\Packages\\PythonSoftwareFoundation.Python.3.10_qbz5n2kfra8p0\\LocalCache\\local-packages\\Python310\\site-packages\\sklearn\\neural_network\\_multilayer_perceptron.py:702: ConvergenceWarning: Stochastic Optimizer: Maximum iterations (200) reached and the optimization hasn't converged yet.\n",
      "  warnings.warn(\n",
      "C:\\Users\\Martin\\AppData\\Local\\Packages\\PythonSoftwareFoundation.Python.3.10_qbz5n2kfra8p0\\LocalCache\\local-packages\\Python310\\site-packages\\sklearn\\neural_network\\_multilayer_perceptron.py:702: ConvergenceWarning: Stochastic Optimizer: Maximum iterations (200) reached and the optimization hasn't converged yet.\n",
      "  warnings.warn(\n",
      "C:\\Users\\Martin\\AppData\\Local\\Packages\\PythonSoftwareFoundation.Python.3.10_qbz5n2kfra8p0\\LocalCache\\local-packages\\Python310\\site-packages\\sklearn\\neural_network\\_multilayer_perceptron.py:702: ConvergenceWarning: Stochastic Optimizer: Maximum iterations (200) reached and the optimization hasn't converged yet.\n",
      "  warnings.warn(\n",
      "[I 2023-08-27 17:58:06,657] Trial 6 finished with value: -6598481.466445035 and parameters: {'n_layers': 5, 'n_units_l0': 84, 'n_units_l1': 59, 'n_units_l2': 4, 'n_units_l3': 37, 'n_units_l4': 43, 'activation': 'tanh', 'alpha': 0.03604290678960857}. Best is trial 4 with value: -7480768.20178056.\n",
      "C:\\Users\\Martin\\AppData\\Local\\Packages\\PythonSoftwareFoundation.Python.3.10_qbz5n2kfra8p0\\LocalCache\\local-packages\\Python310\\site-packages\\sklearn\\neural_network\\_multilayer_perceptron.py:702: ConvergenceWarning: Stochastic Optimizer: Maximum iterations (200) reached and the optimization hasn't converged yet.\n",
      "  warnings.warn(\n",
      "C:\\Users\\Martin\\AppData\\Local\\Packages\\PythonSoftwareFoundation.Python.3.10_qbz5n2kfra8p0\\LocalCache\\local-packages\\Python310\\site-packages\\sklearn\\neural_network\\_multilayer_perceptron.py:702: ConvergenceWarning: Stochastic Optimizer: Maximum iterations (200) reached and the optimization hasn't converged yet.\n",
      "  warnings.warn(\n",
      "C:\\Users\\Martin\\AppData\\Local\\Packages\\PythonSoftwareFoundation.Python.3.10_qbz5n2kfra8p0\\LocalCache\\local-packages\\Python310\\site-packages\\sklearn\\neural_network\\_multilayer_perceptron.py:702: ConvergenceWarning: Stochastic Optimizer: Maximum iterations (200) reached and the optimization hasn't converged yet.\n",
      "  warnings.warn(\n",
      "[I 2023-08-27 17:58:11,597] Trial 7 finished with value: -7642043.074482799 and parameters: {'n_layers': 2, 'n_units_l0': 6, 'n_units_l1': 5, 'activation': 'relu', 'alpha': 9.870814707455301e-05}. Best is trial 7 with value: -7642043.074482799.\n",
      "C:\\Users\\Martin\\AppData\\Local\\Packages\\PythonSoftwareFoundation.Python.3.10_qbz5n2kfra8p0\\LocalCache\\local-packages\\Python310\\site-packages\\sklearn\\neural_network\\_multilayer_perceptron.py:702: ConvergenceWarning: Stochastic Optimizer: Maximum iterations (200) reached and the optimization hasn't converged yet.\n",
      "  warnings.warn(\n",
      "C:\\Users\\Martin\\AppData\\Local\\Packages\\PythonSoftwareFoundation.Python.3.10_qbz5n2kfra8p0\\LocalCache\\local-packages\\Python310\\site-packages\\sklearn\\neural_network\\_multilayer_perceptron.py:702: ConvergenceWarning: Stochastic Optimizer: Maximum iterations (200) reached and the optimization hasn't converged yet.\n",
      "  warnings.warn(\n",
      "C:\\Users\\Martin\\AppData\\Local\\Packages\\PythonSoftwareFoundation.Python.3.10_qbz5n2kfra8p0\\LocalCache\\local-packages\\Python310\\site-packages\\sklearn\\neural_network\\_multilayer_perceptron.py:702: ConvergenceWarning: Stochastic Optimizer: Maximum iterations (200) reached and the optimization hasn't converged yet.\n",
      "  warnings.warn(\n",
      "[I 2023-08-27 17:58:18,275] Trial 8 finished with value: -7179785.4804433165 and parameters: {'n_layers': 1, 'n_units_l0': 21, 'activation': 'logistic', 'alpha': 2.200036608666745e-05}. Best is trial 7 with value: -7642043.074482799.\n",
      "[I 2023-08-27 17:58:31,734] Trial 9 finished with value: -1386563.301260579 and parameters: {'n_layers': 3, 'n_units_l0': 64, 'n_units_l1': 42, 'n_units_l2': 32, 'activation': 'identity', 'alpha': 0.046760942954404576}. Best is trial 7 with value: -7642043.074482799.\n"
     ]
    },
    {
     "name": "stdout",
     "output_type": "stream",
     "text": [
      "Best trial (Neural Network): score 7642043.074482799, params {'n_layers': 2, 'n_units_l0': 6, 'n_units_l1': 5, 'activation': 'relu', 'alpha': 9.870814707455301e-05}\n"
     ]
    },
    {
     "name": "stderr",
     "output_type": "stream",
     "text": [
      "C:\\Users\\Martin\\AppData\\Local\\Packages\\PythonSoftwareFoundation.Python.3.10_qbz5n2kfra8p0\\LocalCache\\local-packages\\Python310\\site-packages\\sklearn\\neural_network\\_multilayer_perceptron.py:702: ConvergenceWarning: Stochastic Optimizer: Maximum iterations (200) reached and the optimization hasn't converged yet.\n",
      "  warnings.warn(\n"
     ]
    },
    {
     "data": {
      "text/plain": [
       "['H:\\\\Users\\\\Martin\\\\Desktop\\\\Especialización  IA\\\\1 - Bimestres y Cursos\\\\3B\\\\3. Aprendizaje de Máquina II\\\\TP - MartinCaceres_AMq2\\\\MartinCaceres_AMq2_TPFinal\\\\models\\\\neural_network_model.joblib']"
      ]
     },
     "execution_count": 16,
     "metadata": {},
     "output_type": "execute_result"
    }
   ],
   "source": [
    "# Crear el estudio de Optuna y ejecutar la optimización para Redes Neuronales\n",
    "study_nn = optuna.create_study(direction='minimize')\n",
    "study_nn.optimize(neural_network_objective, n_trials=10)\n",
    "\n",
    "# Imprimir los resultados de la optimización para Redes Neuronales\n",
    "print('Best trial (Neural Network): score {}, params {}'.format(-study_nn.best_trial.value, study_nn.best_trial.params))\n",
    "\n",
    "# Obtener los mejores hiperparámetros para Redes Neuronales\n",
    "best_params_nn = study_nn.best_params\n",
    "\n",
    "# Crear y entrenar el modelo final de Redes Neuronales con los mejores hiperparámetros\n",
    "final_model_nn = MLPRegressor(\n",
    "    hidden_layer_sizes=tuple([best_params_nn[f\"n_units_l{i}\"] for i in range(best_params_nn[\"n_layers\"])]),\n",
    "    activation=best_params_nn[\"activation\"],\n",
    "    alpha=best_params_nn[\"alpha\"],\n",
    "    random_state=42\n",
    ")\n",
    "final_model_nn.fit(X_train_imputed, y_train)\n",
    "\n",
    "# Guardar el modelo entrenado\n",
    "model_path_nn = os.path.join(project_folder, \"models\", \"neural_network_model.joblib\")\n",
    "joblib.dump(final_model_nn, model_path_nn)"
   ]
  }
 ],
 "metadata": {
  "kernelspec": {
   "display_name": "base",
   "language": "python",
   "name": "python3"
  },
  "language_info": {
   "codemirror_mode": {
    "name": "ipython",
    "version": 3
   },
   "file_extension": ".py",
   "mimetype": "text/x-python",
   "name": "python",
   "nbconvert_exporter": "python",
   "pygments_lexer": "ipython3",
   "version": "3.10.11"
  },
  "orig_nbformat": 4
 },
 "nbformat": 4,
 "nbformat_minor": 2
}
